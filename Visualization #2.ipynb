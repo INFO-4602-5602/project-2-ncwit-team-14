{
 "cells": [
  {
   "cell_type": "markdown",
   "metadata": {},
   "source": [
    "## Visualization #2"
   ]
  },
  {
   "cell_type": "markdown",
   "metadata": {},
   "source": [
    "What is the proportion of women to men broken out by race? Does the data show difference among race in enrollment. "
   ]
  },
  {
   "cell_type": "code",
   "execution_count": 1,
   "metadata": {
    "collapsed": true
   },
   "outputs": [],
   "source": [
    "import pandas as pd\n",
    "import numpy as np\n",
    "pd.options.display.max_columns = 999\n",
    "import matplotlib.pyplot as plt\n",
    "from bokeh.plotting import figure, output_file, show, ColumnDataSource\n",
    "from bokeh.models import Range1d, HoverTool\n",
    "from bokeh.io import output_file, show\n",
    "from bokeh.layouts import gridplot\n"
   ]
  },
  {
   "cell_type": "code",
   "execution_count": 2,
   "metadata": {
    "collapsed": true
   },
   "outputs": [],
   "source": [
    "ncwit_df = pd.read_csv(\"NCWIT-Data Cleaned.csv\", low_memory = False)\n",
    "ncwit_df = ncwit_df.fillna(0)\n",
    "x = np.arange(2001,2017)\n",
    "horizontal_line = (np.array([0.2 for i in range(len(x))]))"
   ]
  },
  {
   "cell_type": "code",
   "execution_count": 3,
   "metadata": {
    "collapsed": true
   },
   "outputs": [],
   "source": [
    "asian_df = ncwit_df[[ 'School Year', 'Enroll, Female: Asian (Enrl F)','Enroll, Male: Asian (Enrl M)' ]].copy()\n",
    "asian = asian_df.groupby('School Year').sum().reset_index()\n",
    "asian['Proportion_Female'] = (asian['Enroll, Female: Asian (Enrl F)'])/(asian['Enroll, Female: Asian (Enrl F)'] + asian['Enroll, Male: Asian (Enrl M)'])\n",
    "\n",
    "african_american_df = ncwit_df[[ 'School Year', 'Enroll, Female: Black/African American (Enrl F)','Enroll, Male: Black/African American (Enrl M)' ]].copy()\n",
    "african_american = african_american_df.groupby('School Year').sum().reset_index()\n",
    "african_american['Proportion_Female'] = (african_american['Enroll, Female: Black/African American (Enrl F)'])/(african_american['Enroll, Female: Black/African American (Enrl F)'] + african_american['Enroll, Male: Black/African American (Enrl M)'])\n",
    "\n",
    "hispanic_df = ncwit_df[[ 'School Year', 'Enroll, Female: Hispanics of any race (Enrl F)','Enroll, Male: Hispanics of any race (Enrl M)' ]].copy()\n",
    "hispanic = hispanic_df.groupby('School Year').sum().reset_index()\n",
    "hispanic['Proportion_Female'] = (hispanic['Enroll, Female: Hispanics of any race (Enrl F)'])/((hispanic['Enroll, Female: Hispanics of any race (Enrl F)']) + hispanic['Enroll, Male: Hispanics of any race (Enrl M)'])\n",
    "\n",
    "american_indian_alaska_native_df =  ncwit_df[[ 'School Year', 'Enroll, Female: American Indian/Alaska Native (Enrl F)','Enroll, Male: American Indian/Alaska Native (Enrl M)' ]].copy()\n",
    "american_indian_alaska_native = american_indian_alaska_native_df.groupby('School Year').sum().reset_index()\n",
    "american_indian_alaska_native['Proportion_Female'] = (american_indian_alaska_native['Enroll, Female: American Indian/Alaska Native (Enrl F)'])/((american_indian_alaska_native['Enroll, Female: American Indian/Alaska Native (Enrl F)']) + american_indian_alaska_native['Enroll, Male: American Indian/Alaska Native (Enrl M)'])\n",
    "\n",
    "native_hawaiian_other_pac_islander_df =  ncwit_df[[ 'School Year','Enroll, Female: Native Hawaiian/Other Pacific Islander (Enrl F)', 'Enroll, Male: Native Hawaiian/Other Pacific Islander (Enrl M)' ]].copy()\n",
    "native_hawaiian_other_pac_islander = native_hawaiian_other_pac_islander_df.groupby('School Year').sum().reset_index()\n",
    "native_hawaiian_other_pac_islander['Proportion_Female'] = (native_hawaiian_other_pac_islander['Enroll, Female: Native Hawaiian/Other Pacific Islander (Enrl F)'])/((native_hawaiian_other_pac_islander['Enroll, Female: Native Hawaiian/Other Pacific Islander (Enrl F)']) + native_hawaiian_other_pac_islander['Enroll, Male: Native Hawaiian/Other Pacific Islander (Enrl M)'])\n",
    "\n",
    "two_or_more_races_df =  ncwit_df[[ 'School Year', 'Enroll, Female: Two or more races (Enrl F)','Enroll, Male: Two or more races (Enrl M)' ]].copy()\n",
    "two_or_more_races = two_or_more_races_df .groupby('School Year').sum().reset_index()\n",
    "two_or_more_races['Proportion_Female'] = (two_or_more_races['Enroll, Female: Two or more races (Enrl F)'])/((two_or_more_races['Enroll, Female: Two or more races (Enrl F)']) + two_or_more_races['Enroll, Male: Two or more races (Enrl M)'])\n",
    "\n",
    "us_citizen_df =  ncwit_df[[ 'School Year', 'Enroll, Female: US Citizens (Enrl F)','Enroll, Male: US Citizens (Enrl M)' ]].copy()\n",
    "us_citizen = us_citizen_df.groupby('School Year').sum().reset_index()\n",
    "us_citizen['Proportion_Female'] = (us_citizen['Enroll, Female: US Citizens (Enrl F)'])/((us_citizen['Enroll, Female: US Citizens (Enrl F)']) + us_citizen['Enroll, Male: US Citizens (Enrl M)'])\n",
    "\n",
    "white_df = ncwit_df[[ 'School Year', 'Enroll, Female: White (Enrl F)','Enroll, Male: White (Enrl M)' ]].copy()\n",
    "white = white_df.groupby('School Year').sum().reset_index()\n",
    "white['Proportion_Female'] = (white['Enroll, Female: White (Enrl F)'])/((white ['Enroll, Female: White (Enrl F)']) + white ['Enroll, Male: White (Enrl M)'])\n",
    "\n",
    "\n"
   ]
  },
  {
   "cell_type": "code",
   "execution_count": 4,
   "metadata": {
    "collapsed": true
   },
   "outputs": [],
   "source": [
    "output_file(\"Visualization2.html\")\n",
    "\n",
    "hover_asian = HoverTool(tooltips=[\n",
    "    (\"Proportion Female\", \"$y\"),])\n",
    "p_asian = figure(title = 'Asian',plot_width=300, plot_height=300, tools = [hover_asian])\n",
    "p_asian.title.align = 'center'\n",
    "p_asian.scatter(x,asian['Proportion_Female'])\n",
    "p_asian.line(x,asian['Proportion_Female'])\n",
    "p_asian.line(x,horizontal_line, line_dash = [4,4], line_color = 'green', line_width = 2)\n",
    "p_asian.y_range = Range1d(0, 1)\n",
    "p_asian.xaxis.axis_label = 'Year'\n",
    "p_asian.yaxis.axis_label = 'Proportion Female Enrolled'\n",
    "\n",
    "hover_african_american = HoverTool(tooltips=[\n",
    "    (\"Proportion Female\", \"$y\"),])\n",
    "p_african_american = figure(title = 'African American/Black',plot_width=300, plot_height=300, tools = [hover_african_american])\n",
    "p_african_american.title.align = 'center'\n",
    "p_african_american.scatter(x,african_american['Proportion_Female'])\n",
    "p_african_american.line(x,african_american['Proportion_Female'])\n",
    "p_african_american.line(x,horizontal_line, line_dash = [4,4], line_color = 'green', line_width = 2)\n",
    "p_african_american.y_range = Range1d(0, 1)\n",
    "p_african_american.xaxis.axis_label = 'Year'\n",
    "p_african_american.yaxis.axis_label = 'Proportion Female Enrolled'\n",
    "\n",
    "hover_hispanic  = HoverTool(tooltips=[\n",
    "    (\"Proportion Female\", \"$y\"),])\n",
    "p_hispanic = figure(title = 'Hispanic',plot_width=300, plot_height=300, tools = [hover_hispanic])\n",
    "p_hispanic.title.align = 'center'\n",
    "p_hispanic.scatter(x,hispanic['Proportion_Female'])\n",
    "p_hispanic.line(x,hispanic['Proportion_Female'])\n",
    "p_hispanic.line(x,horizontal_line, line_dash = [4,4], line_color = 'green', line_width = 2)\n",
    "p_hispanic.y_range = Range1d(0, 1)\n",
    "p_hispanic.xaxis.axis_label = 'Year'\n",
    "p_hispanic.yaxis.axis_label = 'Proportion Female Enrolled'\n",
    "\n",
    "hover_american_indian_alaska_native  = HoverTool(tooltips=[\n",
    "    (\"Proportion Female\", \"$y\"),])\n",
    "p_american_indian_alaska_native = figure(title = 'American Indian/Alaska Native',plot_width=300, plot_height=300, tools = [hover_american_indian_alaska_native])\n",
    "p_american_indian_alaska_native.title.align = 'center'\n",
    "p_american_indian_alaska_native.scatter(x,american_indian_alaska_native['Proportion_Female'])\n",
    "p_american_indian_alaska_native.line(x,american_indian_alaska_native['Proportion_Female'])\n",
    "p_american_indian_alaska_native.line(x,horizontal_line, line_dash = [4,4], line_color = 'green', line_width = 2)\n",
    "p_american_indian_alaska_native.y_range = Range1d(0, 1)\n",
    "p_american_indian_alaska_native.xaxis.axis_label = 'Year'\n",
    "p_american_indian_alaska_native.yaxis.axis_label = 'Proportion Female Enrolled'\n",
    "\n",
    "hover_native_hawaiian_other_pac_islander = HoverTool(tooltips=[\n",
    "    (\"Proportion Female\", \"$y\"),])\n",
    "p_native_hawaiian_other_pac_islander = figure(title = 'Native Hawaiian/Other Pacific Islander',plot_width=300, plot_height=300, tools = [hover_native_hawaiian_other_pac_islander])\n",
    "p_native_hawaiian_other_pac_islander.title.align = 'center'\n",
    "p_native_hawaiian_other_pac_islander.scatter(x,native_hawaiian_other_pac_islander['Proportion_Female'])\n",
    "p_native_hawaiian_other_pac_islander.line(x,native_hawaiian_other_pac_islander['Proportion_Female'])\n",
    "p_native_hawaiian_other_pac_islander.line(x,horizontal_line, line_dash = [4,4], line_color = 'green', line_width = 2)\n",
    "p_native_hawaiian_other_pac_islander.y_range = Range1d(0, 1)\n",
    "p_native_hawaiian_other_pac_islander.xaxis.axis_label = 'Year'\n",
    "p_native_hawaiian_other_pac_islander.yaxis.axis_label = 'Proportion Female Enrolled'\n",
    "\n",
    "hover_two_or_more_races = HoverTool(tooltips=[\n",
    "    (\"Proportion Female\", \"$y\"),])\n",
    "p_two_or_more_races = figure(title = 'Two or More Races',plot_width=300, plot_height=300, tools = [hover_two_or_more_races])\n",
    "p_two_or_more_races.title.align = 'center'\n",
    "p_two_or_more_races.scatter(x,two_or_more_races['Proportion_Female'])\n",
    "p_two_or_more_races.line(x,two_or_more_races['Proportion_Female'])\n",
    "p_two_or_more_races.line(x,horizontal_line, line_dash = [4,4], line_color = 'green', line_width = 2)\n",
    "p_two_or_more_races.y_range = Range1d(0, 1)\n",
    "p_two_or_more_races.xaxis.axis_label = 'Year'\n",
    "p_two_or_more_races.yaxis.axis_label = 'Proportion Female Enrolled'\n",
    "\n",
    "\n",
    "hover_us_citizen = HoverTool(tooltips=[\n",
    "    (\"Proportion Female\", \"$y\"),])\n",
    "p_us_citizen = figure(title = 'US Citizen',plot_width=300, plot_height=300,tools = [hover_us_citizen])\n",
    "p_us_citizen.title.align = 'center'\n",
    "p_us_citizen.scatter(x,us_citizen['Proportion_Female'])\n",
    "p_us_citizen.line(x,us_citizen['Proportion_Female'])\n",
    "p_us_citizen.line(x,horizontal_line, line_dash = [4,4], line_color = 'green', line_width = 2)\n",
    "p_us_citizen.y_range = Range1d(0, 1)\n",
    "p_us_citizen.xaxis.axis_label = 'Year'\n",
    "p_us_citizen.yaxis.axis_label = 'Proportion Female Enrolled'\n",
    "\n",
    "    \n",
    "hover_white = HoverTool(tooltips=[\n",
    "    (\"Proportion Female\", \"$y\"),])\n",
    "p_white = figure(title = 'White',plot_width=300, plot_height=300, tools = [hover_white])\n",
    "p_white.title.align = 'center'\n",
    "p_white.scatter(x,white['Proportion_Female'])\n",
    "p_white.line(x,white['Proportion_Female'])\n",
    "p_white.line(x,horizontal_line, line_dash = [4,4], line_color = 'green', line_width = 2)\n",
    "p_white.y_range = Range1d(0, 1)\n",
    "p_white.xaxis.axis_label = 'Year'\n",
    "p_white.yaxis.axis_label = 'Proportion Female Enrolled'\n",
    "\n",
    "p = gridplot([[p_asian, p_african_american,p_hispanic, p_american_indian_alaska_native], [p_native_hawaiian_other_pac_islander, p_two_or_more_races, p_us_citizen, p_white]])\n",
    "\n",
    "\n",
    "show(p)"
   ]
  },
  {
   "cell_type": "code",
   "execution_count": null,
   "metadata": {
    "collapsed": true
   },
   "outputs": [],
   "source": []
  },
  {
   "cell_type": "code",
   "execution_count": null,
   "metadata": {
    "collapsed": true
   },
   "outputs": [],
   "source": []
  }
 ],
 "metadata": {
  "kernelspec": {
   "display_name": "Python 3",
   "language": "python",
   "name": "python3"
  },
  "language_info": {
   "codemirror_mode": {
    "name": "ipython",
    "version": 3
   },
   "file_extension": ".py",
   "mimetype": "text/x-python",
   "name": "python",
   "nbconvert_exporter": "python",
   "pygments_lexer": "ipython3",
   "version": "3.6.1"
  }
 },
 "nbformat": 4,
 "nbformat_minor": 2
}
